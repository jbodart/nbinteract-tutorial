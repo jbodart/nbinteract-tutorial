{
 "cells": [
  {
   "cell_type": "markdown",
   "id": "ruled-palestinian",
   "metadata": {},
   "source": [
    "# Calculation note: Braking time\n",
    "\\begin{align}\n",
    "\\dot{x} & = \\sigma(y-x) \\\\\n",
    "\\dot{y} & = \\rho x - y - xz \\\\\n",
    "\\dot{z} & = -\\beta z + xy\n",
    "\\end{align}"
   ]
  },
  {
   "cell_type": "markdown",
   "id": "terminal-graduate",
   "metadata": {},
   "source": [
    "## Motor description"
   ]
  },
  {
   "cell_type": "code",
   "execution_count": 7,
   "id": "expired-voluntary",
   "metadata": {},
   "outputs": [
    {
     "data": {
      "application/vnd.jupyter.widget-view+json": {
       "model_id": "860916fb377b421fb95945e29a2cf610",
       "version_major": 2,
       "version_minor": 0
      },
      "text/plain": [
       "FloatText(value=5000.0, description='Motor speed (RPM):')"
      ]
     },
     "metadata": {},
     "output_type": "display_data"
    }
   ],
   "source": [
    "import ipywidgets as widgets\n",
    "from IPython.display import display\n",
    "from ipywidgets.embed import embed_minimal_html\n",
    "\n",
    "motor_speed= widgets.FloatText(\n",
    "    value=5000,\n",
    "    description='Motor speed (RPM):',\n",
    "    disabled=False\n",
    ")\n",
    "\n",
    "#embed_minimal_html('export.html', views=[motor_speed], title='Widgets export')\n",
    "display(motor_speed)"
   ]
  },
  {
   "cell_type": "code",
   "execution_count": 14,
   "id": "palestinian-camcorder",
   "metadata": {},
   "outputs": [
    {
     "data": {
      "application/vnd.jupyter.widget-view+json": {
       "model_id": "b004fd966662498a8f6a73469f8420fe",
       "version_major": 2,
       "version_minor": 0
      },
      "text/plain": [
       "interactive(children=(FloatSlider(value=5.0, description='freq', max=5.0, min=1.0, step=0.5), Output()), _dom_…"
      ]
     },
     "metadata": {},
     "output_type": "display_data"
    },
    {
     "data": {
      "text/plain": [
       "<function __main__.plot_func(freq)>"
      ]
     },
     "execution_count": 14,
     "metadata": {},
     "output_type": "execute_result"
    }
   ],
   "source": [
    "#%%capture \n",
    "%matplotlib inline\n",
    "\n",
    "from ipywidgets import interact, interactive, fixed, interact_manual\n",
    "import ipywidgets as widgets\n",
    "import nbinteract as nbi\n",
    "import matplotlib.pyplot as plt\n",
    "%matplotlib inline\n",
    "\n",
    "import numpy as np\n",
    "\n",
    "def plot_func(freq):\n",
    "    x = np.linspace(0, 2*np.pi)\n",
    "    y = np.sin(x * freq)\n",
    "    plt.plot(x, y)\n",
    "\n",
    "interact(plot_func, freq = widgets.FloatSlider(value=7.5,\n",
    "                                               min=1,\n",
    "                                               max=5.0,\n",
    "                                               step=0.5))"
   ]
  },
  {
   "cell_type": "code",
   "execution_count": null,
   "id": "roman-shape",
   "metadata": {},
   "outputs": [],
   "source": [
    "nbi.publish('SamLau95/nbinteract-image/master', 'homepage.ipynb')"
   ]
  },
  {
   "cell_type": "code",
   "execution_count": null,
   "id": "headed-mapping",
   "metadata": {},
   "outputs": [],
   "source": []
  },
  {
   "cell_type": "code",
   "execution_count": null,
   "id": "logical-saudi",
   "metadata": {},
   "outputs": [],
   "source": []
  }
 ],
 "metadata": {
  "kernelspec": {
   "display_name": "Python 3",
   "language": "python",
   "name": "python3"
  },
  "language_info": {
   "codemirror_mode": {
    "name": "ipython",
    "version": 3
   },
   "file_extension": ".py",
   "mimetype": "text/x-python",
   "name": "python",
   "nbconvert_exporter": "python",
   "pygments_lexer": "ipython3",
   "version": "3.6.13"
  }
 },
 "nbformat": 4,
 "nbformat_minor": 5
}
